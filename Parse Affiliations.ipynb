{
 "cells": [
  {
   "cell_type": "code",
   "execution_count": 108,
   "metadata": {
    "collapsed": true
   },
   "outputs": [],
   "source": [
    "import re\n",
    "import itertools"
   ]
  },
  {
   "cell_type": "code",
   "execution_count": 2,
   "metadata": {
    "collapsed": true
   },
   "outputs": [],
   "source": [
    "affiliation_path = '/Users/sandeepsubramanian/CMU/Research/PubMedMining/PubMedCentral/affiliations_4'\n",
    "f = open(affiliation_path,'r')\n",
    "affiliations = f.readlines()"
   ]
  },
  {
   "cell_type": "code",
   "execution_count": 153,
   "metadata": {
    "collapsed": false
   },
   "outputs": [],
   "source": [
    "'''\n",
    "\n",
    "# THIS DOESNT WORK SINCE THE FINDALL KEEPS MESSING UP :(\n",
    "\n",
    "delimited_affiliations = []\n",
    "for affiliation in affiliations:\n",
    "    aff = affiliation.strip()\n",
    "    res1 = re.findall('</label>[a-zA-Z0-9_ ,#()\\@<>/=\".&;]+</aff>',aff)\n",
    "    res2 = re.findall('<institution>[a-zA-Z0-9_ ,#()\\@<>/=\".&;]+</institution>',aff)\n",
    "    res3 = re.findall('<aff[a-zA-Z0-9_ ,#()\\@<>/=\".&;]+>[a-zA-Z0-9_ ,#()\\@<>/=\".&;]+</aff>',aff)\n",
    "    res4 = re.findall('<addr-line>[a-zA-Z0-9_ ,#()\\@<>/=\".&;]+</addr-line>',aff)\n",
    "    res5 = re.findall('</sup>[a-zA-Z0-9_ ,#()\\@<>/=\".&;]+/aff>',aff)\n",
    "    res6 = re.findall('<label/>[a-zA-Z0-9_ ,#()\\@<>/=\".&;]+</aff>',aff)\n",
    "    res7 = re.findall('<aff>[a-zA-Z0-9_ ,#()\\@<>/=\".&;]+</aff>',aff)\n",
    "    if res1 == [] and res2 == [] and res3 == [] and res4 == [] and res5 == [] and res6 == [] and res7 == []:\n",
    "        delimited_affiliations.append('Could not parse affiliations for this sentence')\n",
    "        continue\n",
    "    else:\n",
    "        if res1 != []:\n",
    "            aff_string = '|||'.join(res1)\n",
    "            delimited_affiliations.append(aff_string)\n",
    "        elif res2 != []:\n",
    "            aff_string = '|||'.join(res2)\n",
    "            delimited_affiliations.append(aff_string)\n",
    "        elif res3 != []:\n",
    "            aff_string = '|||'.join(res3)\n",
    "            delimited_affiliations.append(aff_string)\n",
    "        elif res4 != []:\n",
    "            aff_string = '|||'.join(res4)\n",
    "            delimited_affiliations.append(aff_string)\n",
    "        elif res5 != []:\n",
    "            aff_string = '|||'.join(res5)\n",
    "            delimited_affiliations.append(aff_string)\n",
    "        elif res6 != []:\n",
    "            aff_string = '|||'.join(res6)\n",
    "            delimited_affiliations.append(aff_string)\n",
    "        elif res7 != []:\n",
    "            aff_string = '|||'.join(res7)\n",
    "            delimited_affiliations.append(aff_string)\n",
    "'''"
   ]
  },
  {
   "cell_type": "code",
   "execution_count": 218,
   "metadata": {
    "collapsed": true
   },
   "outputs": [],
   "source": [
    "def expr1(sentence):\n",
    "    starts = [m.end() for m in re.finditer('</label>', sentence)]\n",
    "    ends = [m.start() for m in re.finditer('</aff>', sentence)]\n",
    "    affiliations = [sentence[start:end] for start,end in zip(starts,ends)]\n",
    "    return affiliations\n",
    "def expr2(sentence):\n",
    "    starts = [m.end() for m in re.finditer('<institution>', sentence)]\n",
    "    ends = [m.start() for m in re.finditer('</institution>', sentence)]\n",
    "    affiliations = [sentence[start:end] for start,end in zip(starts,ends)]\n",
    "    return affiliations\n",
    "def expr3(sentence):\n",
    "    starts = [m.end() for m in re.finditer('<aff', sentence)]\n",
    "    ends = [m.start() for m in re.finditer('</aff>', sentence)]\n",
    "    affiliations = [sentence[start:end] for start,end in zip(starts,ends)]\n",
    "    return affiliations\n",
    "def expr4(sentence):\n",
    "    starts = [m.end() for m in re.finditer('<addr-line>', sentence)]\n",
    "    ends = [m.start() for m in re.finditer('</addr-line>', sentence)]\n",
    "    affiliations = [sentence[start:end] for start,end in zip(starts,ends)]\n",
    "    return affiliations\n",
    "def expr5(sentence):\n",
    "    starts = [m.end() for m in re.finditer('</sup>', sentence)]\n",
    "    ends = [m.start() for m in re.finditer('</aff>', sentence)]\n",
    "    affiliations = [sentence[start:end] for start,end in zip(starts,ends)]\n",
    "    return affiliations\n",
    "def expr6(sentence):\n",
    "    starts = [m.end() for m in re.finditer('<label/>', sentence)]\n",
    "    ends = [m.start() for m in re.finditer('</aff>', sentence)]\n",
    "    affiliations = [sentence[start:end] for start,end in zip(starts,ends)]\n",
    "    return affiliations\n",
    "def expr7(sentence):\n",
    "    starts = [m.end() for m in re.finditer('<aff>', sentence)]\n",
    "    ends = [m.start() for m in re.finditer('</aff>', sentence)]\n",
    "    affiliations = [sentence[start:end] for start,end in zip(starts,ends)]\n",
    "    return affiliations"
   ]
  },
  {
   "cell_type": "code",
   "execution_count": 230,
   "metadata": {
    "collapsed": true
   },
   "outputs": [],
   "source": [
    "delimited_affiliations = []\n",
    "for affiliation in affiliations:\n",
    "    aff = affiliation.strip()\n",
    "    res1 = expr1(aff)\n",
    "    res2 = expr2(aff)\n",
    "    res3 = expr3(aff)\n",
    "    res4 = expr4(aff)\n",
    "    res5 = expr5(aff)\n",
    "    res6 = expr6(aff)\n",
    "    res7 = expr7(aff)\n",
    "    if res1 == [] and res2 == [] and res3 == [] and res4 == [] and res5 == [] and res6 == [] and res7 == []:\n",
    "        delimited_affiliations.append('Could not parse affiliations for this sentence')\n",
    "        continue\n",
    "    else:\n",
    "        if res1 != []:\n",
    "            aff_string = '|||'.join(res1)\n",
    "            delimited_affiliations.append(aff_string)\n",
    "        elif res2 != []:\n",
    "            aff_string = '|||'.join(res2)\n",
    "            delimited_affiliations.append(aff_string)\n",
    "        elif res3 != []:\n",
    "            aff_string = '|||'.join(res3)\n",
    "            delimited_affiliations.append(aff_string)\n",
    "        elif res4 != []:\n",
    "            aff_string = '|||'.join(res4)\n",
    "            delimited_affiliations.append(aff_string)\n",
    "        elif res5 != []:\n",
    "            aff_string = '|||'.join(res5)\n",
    "            delimited_affiliations.append(aff_string)\n",
    "        elif res6 != []:\n",
    "            aff_string = '|||'.join(res6)\n",
    "            delimited_affiliations.append(aff_string)\n",
    "        elif res7 != []:\n",
    "            aff_string = '|||'.join(res7)\n",
    "            delimited_affiliations.append(aff_string)\n",
    "        else:\n",
    "            delimited_affiliations.append('Could not parse affiliations for this sentence')"
   ]
  },
  {
   "cell_type": "code",
   "execution_count": 232,
   "metadata": {
    "collapsed": false
   },
   "outputs": [],
   "source": [
    "g = open('affiliations_processed','w')\n",
    "for item in delimited_affiliations:\n",
    "    g.write(item)\n",
    "    g.write('\\n')"
   ]
  },
  {
   "cell_type": "code",
   "execution_count": 231,
   "metadata": {
    "collapsed": false
   },
   "outputs": [
    {
     "data": {
      "text/plain": [
       "6533"
      ]
     },
     "execution_count": 231,
     "metadata": {},
     "output_type": "execute_result"
    }
   ],
   "source": [
    "len(delimited_affiliations)"
   ]
  },
  {
   "cell_type": "code",
   "execution_count": 206,
   "metadata": {
    "collapsed": false
   },
   "outputs": [
    {
     "data": {
      "text/plain": [
       "'<aff id=\"I1\"><label>1</label>Department of Pulmonology, Academic Medical Center, University of Amsterdam, Amsterdam, The Netherlands</aff><aff id=\"I2\"><label>2</label>Department of Experimental Immunology, Academic Medical Center, University of Amsterdam, Amsterdam, The Netherlands</aff>\\t\\n'"
      ]
     },
     "execution_count": 206,
     "metadata": {},
     "output_type": "execute_result"
    }
   ],
   "source": [
    "affiliations[30]"
   ]
  },
  {
   "cell_type": "code",
   "execution_count": 217,
   "metadata": {
    "collapsed": false
   },
   "outputs": [
    {
     "name": "stdout",
     "output_type": "stream",
     "text": [
      "[]\n",
      "[4, 142] [132, 282]\n"
     ]
    }
   ],
   "source": [
    "print expr3(affiliations[30])\n",
    "starts = [m.end() for m in re.finditer('<aff', affiliations[30])]\n",
    "ends = [m.start() for m in re.finditer('</aff>', affiliations[30])]\n",
    "print starts,ends"
   ]
  },
  {
   "cell_type": "code",
   "execution_count": 157,
   "metadata": {
    "collapsed": false
   },
   "outputs": [
    {
     "data": {
      "text/plain": [
       "'</label>Universit&#x000e4;t Leipzig, Medizinische Klinik und Poliklinik II, Leipzig, Germany</aff><aff id=\"I2\"><label>2</label>Universit&#x000e4;t Heidelberg, Chirurgische Universit&#x000e4;tsklinik, Heidelberg, Germany</aff><aff id=\"I3\"><label>3</label>Charit&#x000e9; Berlin, Medizinische Klinik und Poliklinik, Gastroenterologie, Hepatologie und Endokrinologie, Berlin, Germany</aff>'"
      ]
     },
     "execution_count": 157,
     "metadata": {},
     "output_type": "execute_result"
    }
   ],
   "source": [
    "delimited_affiliations[1]"
   ]
  },
  {
   "cell_type": "code",
   "execution_count": 197,
   "metadata": {
    "collapsed": false
   },
   "outputs": [
    {
     "data": {
      "text/plain": [
       "[119, 246, 407]"
      ]
     },
     "execution_count": 197,
     "metadata": {},
     "output_type": "execute_result"
    }
   ],
   "source": [
    "[m.end() for m in re.finditer('</aff>', affiliations[1])]"
   ]
  },
  {
   "cell_type": "code",
   "execution_count": 190,
   "metadata": {
    "collapsed": false
   },
   "outputs": [
    {
     "name": "stdout",
     "output_type": "stream",
     "text": [
      "['<label>1</label>Universit&#x000e4;t Leipzig, Medizinische Klinik und Poliklinik II, Leipzig, Germany</aff><aff id=\"I2\"><label>2</label>Universit&#x000e4;t Heidelberg, Chirurgische Universit&#x000e4;tsklinik, Heidelberg, Germany</aff><aff id=\"I3\"><label>3</label>Charit&#x000e9; Berlin, Medizinische Klinik und Poliklinik, Gastroenterologie, Hepatologie und Endokrinologie, Berlin, Germany</aff>'] 1\n"
     ]
    }
   ],
   "source": [
    "item = re.findall('<label>[a-zA-Z0-9_ ,#()\\@<>/=\".&;]+</aff>',affiliations[1])\n",
    "print item,len(item)"
   ]
  },
  {
   "cell_type": "code",
   "execution_count": 186,
   "metadata": {
    "collapsed": false
   },
   "outputs": [
    {
     "name": "stdout",
     "output_type": "stream",
     "text": [
      "['</label>Universit&#x000e4;t Leipzig, Medizinische Klinik und Poliklinik II, Leipzig, Germany</aff><aff id=\"I2\"><label>2</label>Universit&#x000e4;t Heidelberg, Chirurgische Universit&#x000e4;tsklinik, Heidelberg, Germany</aff><aff id=\"I3\"><label>3</label>Charit&#x000e9; Berlin, Medizinische Klinik und Poliklinik, Gastroenterologie, Hepatologie und Endokrinologie, Berlin, Germany</aff>'] 1\n"
     ]
    }
   ],
   "source": [
    "item = re.findall('</label>[a-zA-Z0-9_ ,#()\\@<>/=\".&;]+</aff>',affiliations[1])\n",
    "print item,len(item)"
   ]
  },
  {
   "cell_type": "code",
   "execution_count": 165,
   "metadata": {
    "collapsed": false
   },
   "outputs": [
    {
     "data": {
      "text/plain": [
       "[]"
      ]
     },
     "execution_count": 165,
     "metadata": {},
     "output_type": "execute_result"
    }
   ],
   "source": [
    "res1"
   ]
  },
  {
   "cell_type": "code",
   "execution_count": 170,
   "metadata": {
    "collapsed": false
   },
   "outputs": [
    {
     "data": {
      "text/plain": [
       "['</label>Universit&#x000e4;t Leipzig, Medizinische Klinik und Poliklinik II, Leipzig, Germany</aff><aff id=\"I2\"><label>2</label>Universit&#x000e4;t Heidelberg, Chirurgische Universit&#x000e4;tsklinik, Heidelberg, Germany</aff><aff id=\"I3\"><label>3</label>Charit&#x000e9; Berlin, Medizinische Klinik und Poliklinik, Gastroenterologie, Hepatologie und Endokrinologie, Berlin, Germany</aff>']"
      ]
     },
     "execution_count": 170,
     "metadata": {},
     "output_type": "execute_result"
    }
   ],
   "source": [
    "re.findall('</label>[a-zA-Z0-9_ ,#()\\@<>/=\".&;]+</aff>',affiliations[1])"
   ]
  },
  {
   "cell_type": "code",
   "execution_count": 168,
   "metadata": {
    "collapsed": false
   },
   "outputs": [
    {
     "data": {
      "text/plain": [
       "'</label>Universit&#x000e4;t Leipzig, Medizinische Klinik und Poliklinik II, Leipzig, Germany</aff><aff id=\"I2\"><label>2</label>Universit&#x000e4;t Heidelberg, Chirurgische Universit&#x000e4;tsklinik, Heidelberg, Germany</aff><aff id=\"I3\"><label>3</label>Charit&#x000e9; Berlin, Medizinische Klinik und Poliklinik, Gastroenterologie, Hepatologie und Endokrinologie, Berlin, Germany</aff>'"
      ]
     },
     "execution_count": 168,
     "metadata": {},
     "output_type": "execute_result"
    }
   ],
   "source": [
    "delimited_affiliations[1]"
   ]
  },
  {
   "cell_type": "code",
   "execution_count": null,
   "metadata": {
    "collapsed": true
   },
   "outputs": [],
   "source": []
  }
 ],
 "metadata": {
  "kernelspec": {
   "display_name": "Python 2",
   "language": "python",
   "name": "python2"
  },
  "language_info": {
   "codemirror_mode": {
    "name": "ipython",
    "version": 2
   },
   "file_extension": ".py",
   "mimetype": "text/x-python",
   "name": "python",
   "nbconvert_exporter": "python",
   "pygments_lexer": "ipython2",
   "version": "2.7.8"
  }
 },
 "nbformat": 4,
 "nbformat_minor": 0
}
