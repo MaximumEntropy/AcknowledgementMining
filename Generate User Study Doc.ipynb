{
 "cells": [
  {
   "cell_type": "code",
   "execution_count": 30,
   "metadata": {
    "collapsed": false
   },
   "outputs": [],
   "source": [
    "import docx\n",
    "from docx import Document\n",
    "from docx.shared import Inches\n",
    "import random\n",
    "from docx.enum.text import WD_LINE_SPACING\n",
    "from docx.shared import Length\n",
    "from docx.enum.text import WD_ALIGN_PARAGRAPH\n",
    "document = Document()"
   ]
  },
  {
   "cell_type": "code",
   "execution_count": 31,
   "metadata": {
    "collapsed": true
   },
   "outputs": [],
   "source": [
    "import HTMLParser\n",
    "h = HTMLParser.HTMLParser()"
   ]
  },
  {
   "cell_type": "code",
   "execution_count": 32,
   "metadata": {
    "collapsed": true
   },
   "outputs": [],
   "source": [
    "acknowledgement_sentences = '/Users/sandeepsubramanian/CMU/Research/PubMedMining/PubMedCentral/antibody_acknowledgement_sentences_format_fix_antibodies_null_3'"
   ]
  },
  {
   "cell_type": "code",
   "execution_count": 33,
   "metadata": {
    "collapsed": true
   },
   "outputs": [],
   "source": [
    "f = open(acknowledgement_sentences,'r')\n",
    "sentences = [line.strip() for line in f]"
   ]
  },
  {
   "cell_type": "code",
   "execution_count": 34,
   "metadata": {
    "collapsed": false
   },
   "outputs": [],
   "source": [
    "def remove_ack(sentence):\n",
    "    sentence = sentence.replace('Acknowledgments','')\n",
    "    sentence = sentence.replace('ACKNOWLEDGMENTS','')\n",
    "    sentence = sentence.replace('acknowledgments','')\n",
    "    sentence = sentence.replace('Acknowledgements','')\n",
    "    sentence = sentence.replace('ACKNOWLEDGEMENTS','')\n",
    "    sentence = sentence.replace('acknowledgements','')\n",
    "    sentence = sentence.replace('Acknowledgment','')\n",
    "    sentence = sentence.replace('ACKNOWLEDGMENT','')\n",
    "    sentence = sentence.replace('acknowledgment','')\n",
    "    sentence = sentence.replace('Acknowledgement','')\n",
    "    sentence = sentence.replace('ACKNOWLEDGEMENT','')\n",
    "    sentence = sentence.replace('acknowledgement','')\n",
    "    return sentence"
   ]
  },
  {
   "cell_type": "code",
   "execution_count": 35,
   "metadata": {
    "collapsed": false
   },
   "outputs": [],
   "source": [
    "random_sentences = random.sample(range(len(sentences)),200)"
   ]
  },
  {
   "cell_type": "code",
   "execution_count": 36,
   "metadata": {
    "collapsed": false
   },
   "outputs": [],
   "source": [
    "random_sentences = [h.unescape(remove_ack(sentences[ind])) for ind in random_sentences]"
   ]
  },
  {
   "cell_type": "code",
   "execution_count": 37,
   "metadata": {
    "collapsed": false
   },
   "outputs": [
    {
     "data": {
      "text/plain": [
       "u'The authors are grateful to Drs R Weil and A Israel (Institut Pasteur, Paris, France) for NF-\\u03baB antibodies, L Michel (INSERM U976) for her advice, and T Domet and M Cristofari (INSERM U553) for technical assistance.'"
      ]
     },
     "execution_count": 37,
     "metadata": {},
     "output_type": "execute_result"
    }
   ],
   "source": [
    "random_sentences[0]"
   ]
  },
  {
   "cell_type": "code",
   "execution_count": 38,
   "metadata": {
    "collapsed": false
   },
   "outputs": [],
   "source": [
    "for sentence in random_sentences:\n",
    "    p = document.add_paragraph()\n",
    "    paragraph_format = p.paragraph_format\n",
    "    paragraph_format.alignment = WD_ALIGN_PARAGRAPH.CENTER\n",
    "    paragraph_format.line_spacing = 2.50\n",
    "    #p.line_spacing_rule = WD_LINE_SPACING.DOUBLE\n",
    "    p.add_run('Acknowledgement').underline = True\n",
    "    p = document.add_paragraph(sentence)\n",
    "    paragraph_format = p.paragraph_format\n",
    "    paragraph_format.line_spacing = 2.50\n",
    "    document.add_page_break()"
   ]
  },
  {
   "cell_type": "code",
   "execution_count": 39,
   "metadata": {
    "collapsed": true
   },
   "outputs": [],
   "source": [
    "document.save('example_sentences.docx')"
   ]
  },
  {
   "cell_type": "code",
   "execution_count": null,
   "metadata": {
    "collapsed": true
   },
   "outputs": [],
   "source": []
  }
 ],
 "metadata": {
  "kernelspec": {
   "display_name": "Python 2",
   "language": "python",
   "name": "python2"
  },
  "language_info": {
   "codemirror_mode": {
    "name": "ipython",
    "version": 2
   },
   "file_extension": ".py",
   "mimetype": "text/x-python",
   "name": "python",
   "nbconvert_exporter": "python",
   "pygments_lexer": "ipython2",
   "version": "2.7.8"
  }
 },
 "nbformat": 4,
 "nbformat_minor": 0
}
